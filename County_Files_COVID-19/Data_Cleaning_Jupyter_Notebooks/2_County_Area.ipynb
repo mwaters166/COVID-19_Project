{
 "cells": [
  {
   "cell_type": "markdown",
   "metadata": {},
   "source": [
    "## Feature Exploration & Cleaning: US County Area"
   ]
  },
  {
   "cell_type": "code",
   "execution_count": 1,
   "metadata": {},
   "outputs": [],
   "source": [
    "import pandas as pd\n",
    "import numpy as np\n",
    "import datetime as dt\n",
    "import sqlite3"
   ]
  },
  {
   "cell_type": "code",
   "execution_count": 2,
   "metadata": {},
   "outputs": [],
   "source": [
    "conn=sqlite3.connect('COVID19_county_data.db')\n",
    "cursor= conn.cursor()"
   ]
  },
  {
   "cell_type": "code",
   "execution_count": 3,
   "metadata": {},
   "outputs": [],
   "source": [
    "df=pd.read_csv('Census_County_area_v2.csv')"
   ]
  },
  {
   "cell_type": "code",
   "execution_count": 4,
   "metadata": {},
   "outputs": [
    {
     "data": {
      "text/html": [
       "<div>\n",
       "<style scoped>\n",
       "    .dataframe tbody tr th:only-of-type {\n",
       "        vertical-align: middle;\n",
       "    }\n",
       "\n",
       "    .dataframe tbody tr th {\n",
       "        vertical-align: top;\n",
       "    }\n",
       "\n",
       "    .dataframe thead th {\n",
       "        text-align: right;\n",
       "    }\n",
       "</style>\n",
       "<table border=\"1\" class=\"dataframe\">\n",
       "  <thead>\n",
       "    <tr style=\"text-align: right;\">\n",
       "      <th></th>\n",
       "      <th>Areaname</th>\n",
       "      <th>FIPS</th>\n",
       "      <th>Total_Area_sq_mi_LND010190D</th>\n",
       "      <th>LND010200D</th>\n",
       "      <th>LND110180D</th>\n",
       "      <th>LND110190D</th>\n",
       "      <th>Land_Area_sq_mi_LND110200D</th>\n",
       "      <th>LND110210D</th>\n",
       "      <th>Water_Area_sq_miLND210190D</th>\n",
       "      <th>LND210200D</th>\n",
       "    </tr>\n",
       "  </thead>\n",
       "  <tbody>\n",
       "    <tr>\n",
       "      <th>0</th>\n",
       "      <td>UNITED STATES</td>\n",
       "      <td>0</td>\n",
       "      <td>3787425.08</td>\n",
       "      <td>3794083.06</td>\n",
       "      <td>3539289.16</td>\n",
       "      <td>3536341.73</td>\n",
       "      <td>3537438.44</td>\n",
       "      <td>3531905.43</td>\n",
       "      <td>251083.35</td>\n",
       "      <td>256644.62</td>\n",
       "    </tr>\n",
       "    <tr>\n",
       "      <th>1</th>\n",
       "      <td>ALABAMA</td>\n",
       "      <td>1000</td>\n",
       "      <td>52422.94</td>\n",
       "      <td>52419.02</td>\n",
       "      <td>50767.18</td>\n",
       "      <td>50750.23</td>\n",
       "      <td>50744.00</td>\n",
       "      <td>50645.33</td>\n",
       "      <td>1672.71</td>\n",
       "      <td>1675.01</td>\n",
       "    </tr>\n",
       "    <tr>\n",
       "      <th>2</th>\n",
       "      <td>Autauga, AL</td>\n",
       "      <td>1001</td>\n",
       "      <td>604.49</td>\n",
       "      <td>604.45</td>\n",
       "      <td>597.04</td>\n",
       "      <td>596.01</td>\n",
       "      <td>595.97</td>\n",
       "      <td>594.44</td>\n",
       "      <td>8.48</td>\n",
       "      <td>8.48</td>\n",
       "    </tr>\n",
       "    <tr>\n",
       "      <th>3</th>\n",
       "      <td>Baldwin, AL</td>\n",
       "      <td>1003</td>\n",
       "      <td>2027.08</td>\n",
       "      <td>2026.93</td>\n",
       "      <td>1589.42</td>\n",
       "      <td>1596.53</td>\n",
       "      <td>1596.35</td>\n",
       "      <td>1589.78</td>\n",
       "      <td>430.55</td>\n",
       "      <td>430.58</td>\n",
       "    </tr>\n",
       "    <tr>\n",
       "      <th>4</th>\n",
       "      <td>Barbour, AL</td>\n",
       "      <td>1005</td>\n",
       "      <td>904.59</td>\n",
       "      <td>904.52</td>\n",
       "      <td>883.89</td>\n",
       "      <td>885.00</td>\n",
       "      <td>884.90</td>\n",
       "      <td>884.88</td>\n",
       "      <td>19.59</td>\n",
       "      <td>19.61</td>\n",
       "    </tr>\n",
       "  </tbody>\n",
       "</table>\n",
       "</div>"
      ],
      "text/plain": [
       "        Areaname  FIPS  Total_Area_sq_mi_LND010190D  LND010200D  LND110180D  \\\n",
       "0  UNITED STATES     0                   3787425.08  3794083.06  3539289.16   \n",
       "1        ALABAMA  1000                     52422.94    52419.02    50767.18   \n",
       "2    Autauga, AL  1001                       604.49      604.45      597.04   \n",
       "3    Baldwin, AL  1003                      2027.08     2026.93     1589.42   \n",
       "4    Barbour, AL  1005                       904.59      904.52      883.89   \n",
       "\n",
       "   LND110190D  Land_Area_sq_mi_LND110200D  LND110210D  \\\n",
       "0  3536341.73                  3537438.44  3531905.43   \n",
       "1    50750.23                    50744.00    50645.33   \n",
       "2      596.01                      595.97      594.44   \n",
       "3     1596.53                     1596.35     1589.78   \n",
       "4      885.00                      884.90      884.88   \n",
       "\n",
       "   Water_Area_sq_miLND210190D  LND210200D  \n",
       "0                   251083.35   256644.62  \n",
       "1                     1672.71     1675.01  \n",
       "2                        8.48        8.48  \n",
       "3                      430.55      430.58  \n",
       "4                       19.59       19.61  "
      ]
     },
     "execution_count": 4,
     "metadata": {},
     "output_type": "execute_result"
    }
   ],
   "source": [
    "df.head()"
   ]
  },
  {
   "cell_type": "code",
   "execution_count": 5,
   "metadata": {},
   "outputs": [],
   "source": [
    "new_cols=[col for col in df.columns if \"sq_mi\" in col]+['Areaname', 'FIPS']"
   ]
  },
  {
   "cell_type": "code",
   "execution_count": 6,
   "metadata": {},
   "outputs": [],
   "source": [
    "df=df[new_cols]"
   ]
  },
  {
   "cell_type": "code",
   "execution_count": 7,
   "metadata": {},
   "outputs": [
    {
     "data": {
      "text/html": [
       "<div>\n",
       "<style scoped>\n",
       "    .dataframe tbody tr th:only-of-type {\n",
       "        vertical-align: middle;\n",
       "    }\n",
       "\n",
       "    .dataframe tbody tr th {\n",
       "        vertical-align: top;\n",
       "    }\n",
       "\n",
       "    .dataframe thead th {\n",
       "        text-align: right;\n",
       "    }\n",
       "</style>\n",
       "<table border=\"1\" class=\"dataframe\">\n",
       "  <thead>\n",
       "    <tr style=\"text-align: right;\">\n",
       "      <th></th>\n",
       "      <th>Total_Area_sq_mi_LND010190D</th>\n",
       "      <th>Land_Area_sq_mi_LND110200D</th>\n",
       "      <th>Water_Area_sq_miLND210190D</th>\n",
       "      <th>Areaname</th>\n",
       "      <th>FIPS</th>\n",
       "    </tr>\n",
       "  </thead>\n",
       "  <tbody>\n",
       "    <tr>\n",
       "      <th>0</th>\n",
       "      <td>3787425.08</td>\n",
       "      <td>3537438.44</td>\n",
       "      <td>251083.35</td>\n",
       "      <td>UNITED STATES</td>\n",
       "      <td>0</td>\n",
       "    </tr>\n",
       "    <tr>\n",
       "      <th>1</th>\n",
       "      <td>52422.94</td>\n",
       "      <td>50744.00</td>\n",
       "      <td>1672.71</td>\n",
       "      <td>ALABAMA</td>\n",
       "      <td>1000</td>\n",
       "    </tr>\n",
       "    <tr>\n",
       "      <th>2</th>\n",
       "      <td>604.49</td>\n",
       "      <td>595.97</td>\n",
       "      <td>8.48</td>\n",
       "      <td>Autauga, AL</td>\n",
       "      <td>1001</td>\n",
       "    </tr>\n",
       "    <tr>\n",
       "      <th>3</th>\n",
       "      <td>2027.08</td>\n",
       "      <td>1596.35</td>\n",
       "      <td>430.55</td>\n",
       "      <td>Baldwin, AL</td>\n",
       "      <td>1003</td>\n",
       "    </tr>\n",
       "    <tr>\n",
       "      <th>4</th>\n",
       "      <td>904.59</td>\n",
       "      <td>884.90</td>\n",
       "      <td>19.59</td>\n",
       "      <td>Barbour, AL</td>\n",
       "      <td>1005</td>\n",
       "    </tr>\n",
       "  </tbody>\n",
       "</table>\n",
       "</div>"
      ],
      "text/plain": [
       "   Total_Area_sq_mi_LND010190D  Land_Area_sq_mi_LND110200D  \\\n",
       "0                   3787425.08                  3537438.44   \n",
       "1                     52422.94                    50744.00   \n",
       "2                       604.49                      595.97   \n",
       "3                      2027.08                     1596.35   \n",
       "4                       904.59                      884.90   \n",
       "\n",
       "   Water_Area_sq_miLND210190D       Areaname  FIPS  \n",
       "0                   251083.35  UNITED STATES     0  \n",
       "1                     1672.71        ALABAMA  1000  \n",
       "2                        8.48    Autauga, AL  1001  \n",
       "3                      430.55    Baldwin, AL  1003  \n",
       "4                       19.59    Barbour, AL  1005  "
      ]
     },
     "execution_count": 7,
     "metadata": {},
     "output_type": "execute_result"
    }
   ],
   "source": [
    "df.head()"
   ]
  },
  {
   "cell_type": "code",
   "execution_count": 8,
   "metadata": {},
   "outputs": [],
   "source": [
    "state_names=[name for name in df['Areaname'] if ',' not in name]"
   ]
  },
  {
   "cell_type": "code",
   "execution_count": 9,
   "metadata": {},
   "outputs": [],
   "source": [
    "state_df=df[(df['Areaname'].isin(state_names))]"
   ]
  },
  {
   "cell_type": "code",
   "execution_count": 10,
   "metadata": {},
   "outputs": [
    {
     "data": {
      "text/html": [
       "<div>\n",
       "<style scoped>\n",
       "    .dataframe tbody tr th:only-of-type {\n",
       "        vertical-align: middle;\n",
       "    }\n",
       "\n",
       "    .dataframe tbody tr th {\n",
       "        vertical-align: top;\n",
       "    }\n",
       "\n",
       "    .dataframe thead th {\n",
       "        text-align: right;\n",
       "    }\n",
       "</style>\n",
       "<table border=\"1\" class=\"dataframe\">\n",
       "  <thead>\n",
       "    <tr style=\"text-align: right;\">\n",
       "      <th></th>\n",
       "      <th>Total_Area_sq_mi_LND010190D</th>\n",
       "      <th>Land_Area_sq_mi_LND110200D</th>\n",
       "      <th>Water_Area_sq_miLND210190D</th>\n",
       "      <th>Areaname</th>\n",
       "      <th>FIPS</th>\n",
       "    </tr>\n",
       "  </thead>\n",
       "  <tbody>\n",
       "    <tr>\n",
       "      <th>0</th>\n",
       "      <td>3787425.08</td>\n",
       "      <td>3537438.44</td>\n",
       "      <td>251083.35</td>\n",
       "      <td>UNITED STATES</td>\n",
       "      <td>0</td>\n",
       "    </tr>\n",
       "    <tr>\n",
       "      <th>1</th>\n",
       "      <td>52422.94</td>\n",
       "      <td>50744.00</td>\n",
       "      <td>1672.71</td>\n",
       "      <td>ALABAMA</td>\n",
       "      <td>1000</td>\n",
       "    </tr>\n",
       "    <tr>\n",
       "      <th>69</th>\n",
       "      <td>656424.14</td>\n",
       "      <td>571951.26</td>\n",
       "      <td>86050.59</td>\n",
       "      <td>ALASKA</td>\n",
       "      <td>2000</td>\n",
       "    </tr>\n",
       "    <tr>\n",
       "      <th>99</th>\n",
       "      <td>114006.26</td>\n",
       "      <td>113634.57</td>\n",
       "      <td>364.00</td>\n",
       "      <td>ARIZONA</td>\n",
       "      <td>4000</td>\n",
       "    </tr>\n",
       "    <tr>\n",
       "      <th>115</th>\n",
       "      <td>53182.36</td>\n",
       "      <td>52068.17</td>\n",
       "      <td>1107.07</td>\n",
       "      <td>ARKANSAS</td>\n",
       "      <td>5000</td>\n",
       "    </tr>\n",
       "  </tbody>\n",
       "</table>\n",
       "</div>"
      ],
      "text/plain": [
       "     Total_Area_sq_mi_LND010190D  Land_Area_sq_mi_LND110200D  \\\n",
       "0                     3787425.08                  3537438.44   \n",
       "1                       52422.94                    50744.00   \n",
       "69                     656424.14                   571951.26   \n",
       "99                     114006.26                   113634.57   \n",
       "115                     53182.36                    52068.17   \n",
       "\n",
       "     Water_Area_sq_miLND210190D       Areaname  FIPS  \n",
       "0                     251083.35  UNITED STATES     0  \n",
       "1                       1672.71        ALABAMA  1000  \n",
       "69                     86050.59         ALASKA  2000  \n",
       "99                       364.00        ARIZONA  4000  \n",
       "115                     1107.07       ARKANSAS  5000  "
      ]
     },
     "execution_count": 10,
     "metadata": {},
     "output_type": "execute_result"
    }
   ],
   "source": [
    "state_df.head()"
   ]
  },
  {
   "cell_type": "code",
   "execution_count": 11,
   "metadata": {},
   "outputs": [],
   "source": [
    "county_df=df[~(df['Areaname'].isin(state_names))]"
   ]
  },
  {
   "cell_type": "code",
   "execution_count": 12,
   "metadata": {},
   "outputs": [
    {
     "data": {
      "text/html": [
       "<div>\n",
       "<style scoped>\n",
       "    .dataframe tbody tr th:only-of-type {\n",
       "        vertical-align: middle;\n",
       "    }\n",
       "\n",
       "    .dataframe tbody tr th {\n",
       "        vertical-align: top;\n",
       "    }\n",
       "\n",
       "    .dataframe thead th {\n",
       "        text-align: right;\n",
       "    }\n",
       "</style>\n",
       "<table border=\"1\" class=\"dataframe\">\n",
       "  <thead>\n",
       "    <tr style=\"text-align: right;\">\n",
       "      <th></th>\n",
       "      <th>Total_Area_sq_mi_LND010190D</th>\n",
       "      <th>Land_Area_sq_mi_LND110200D</th>\n",
       "      <th>Water_Area_sq_miLND210190D</th>\n",
       "      <th>Areaname</th>\n",
       "      <th>FIPS</th>\n",
       "    </tr>\n",
       "  </thead>\n",
       "  <tbody>\n",
       "    <tr>\n",
       "      <th>2</th>\n",
       "      <td>604.49</td>\n",
       "      <td>595.97</td>\n",
       "      <td>8.48</td>\n",
       "      <td>Autauga, AL</td>\n",
       "      <td>1001</td>\n",
       "    </tr>\n",
       "    <tr>\n",
       "      <th>3</th>\n",
       "      <td>2027.08</td>\n",
       "      <td>1596.35</td>\n",
       "      <td>430.55</td>\n",
       "      <td>Baldwin, AL</td>\n",
       "      <td>1003</td>\n",
       "    </tr>\n",
       "    <tr>\n",
       "      <th>4</th>\n",
       "      <td>904.59</td>\n",
       "      <td>884.90</td>\n",
       "      <td>19.59</td>\n",
       "      <td>Barbour, AL</td>\n",
       "      <td>1005</td>\n",
       "    </tr>\n",
       "    <tr>\n",
       "      <th>5</th>\n",
       "      <td>625.50</td>\n",
       "      <td>623.03</td>\n",
       "      <td>3.14</td>\n",
       "      <td>Bibb, AL</td>\n",
       "      <td>1007</td>\n",
       "    </tr>\n",
       "    <tr>\n",
       "      <th>6</th>\n",
       "      <td>650.65</td>\n",
       "      <td>645.59</td>\n",
       "      <td>4.97</td>\n",
       "      <td>Blount, AL</td>\n",
       "      <td>1009</td>\n",
       "    </tr>\n",
       "  </tbody>\n",
       "</table>\n",
       "</div>"
      ],
      "text/plain": [
       "   Total_Area_sq_mi_LND010190D  Land_Area_sq_mi_LND110200D  \\\n",
       "2                       604.49                      595.97   \n",
       "3                      2027.08                     1596.35   \n",
       "4                       904.59                      884.90   \n",
       "5                       625.50                      623.03   \n",
       "6                       650.65                      645.59   \n",
       "\n",
       "   Water_Area_sq_miLND210190D     Areaname  FIPS  \n",
       "2                        8.48  Autauga, AL  1001  \n",
       "3                      430.55  Baldwin, AL  1003  \n",
       "4                       19.59  Barbour, AL  1005  \n",
       "5                        3.14     Bibb, AL  1007  \n",
       "6                        4.97   Blount, AL  1009  "
      ]
     },
     "execution_count": 12,
     "metadata": {},
     "output_type": "execute_result"
    }
   ],
   "source": [
    "county_df.head()"
   ]
  },
  {
   "cell_type": "code",
   "execution_count": 13,
   "metadata": {},
   "outputs": [
    {
     "data": {
      "text/plain": [
       "Total_Area_sq_mi_LND010190D    float64\n",
       "Land_Area_sq_mi_LND110200D     float64\n",
       "Water_Area_sq_miLND210190D     float64\n",
       "Areaname                        object\n",
       "FIPS                             int64\n",
       "dtype: object"
      ]
     },
     "execution_count": 13,
     "metadata": {},
     "output_type": "execute_result"
    }
   ],
   "source": [
    "county_df.dtypes"
   ]
  },
  {
   "cell_type": "code",
   "execution_count": 14,
   "metadata": {},
   "outputs": [
    {
     "data": {
      "text/plain": [
       "Total_Area_sq_mi_LND010190D    0\n",
       "Land_Area_sq_mi_LND110200D     0\n",
       "Water_Area_sq_miLND210190D     0\n",
       "Areaname                       0\n",
       "FIPS                           0\n",
       "dtype: int64"
      ]
     },
     "execution_count": 14,
     "metadata": {},
     "output_type": "execute_result"
    }
   ],
   "source": [
    "county_df.isna().sum()"
   ]
  },
  {
   "cell_type": "code",
   "execution_count": 15,
   "metadata": {},
   "outputs": [
    {
     "name": "stderr",
     "output_type": "stream",
     "text": [
      "/Users/michelewaters/anaconda3/lib/python3.7/site-packages/ipykernel_launcher.py:1: SettingWithCopyWarning: \n",
      "A value is trying to be set on a copy of a slice from a DataFrame.\n",
      "Try using .loc[row_indexer,col_indexer] = value instead\n",
      "\n",
      "See the caveats in the documentation: http://pandas.pydata.org/pandas-docs/stable/indexing.html#indexing-view-versus-copy\n",
      "  \"\"\"Entry point for launching an IPython kernel.\n"
     ]
    }
   ],
   "source": [
    "county_df['FIPS'] = county_df['FIPS'].apply(lambda x: str(int(x)).zfill(5))"
   ]
  },
  {
   "cell_type": "code",
   "execution_count": 16,
   "metadata": {},
   "outputs": [],
   "source": [
    "county_df.to_sql('county_area', conn, index_label='id', if_exists='replace')"
   ]
  },
  {
   "cell_type": "code",
   "execution_count": null,
   "metadata": {},
   "outputs": [],
   "source": []
  }
 ],
 "metadata": {
  "kernelspec": {
   "display_name": "Python 3",
   "language": "python",
   "name": "python3"
  },
  "language_info": {
   "codemirror_mode": {
    "name": "ipython",
    "version": 3
   },
   "file_extension": ".py",
   "mimetype": "text/x-python",
   "name": "python",
   "nbconvert_exporter": "python",
   "pygments_lexer": "ipython3",
   "version": "3.7.1"
  }
 },
 "nbformat": 4,
 "nbformat_minor": 2
}
