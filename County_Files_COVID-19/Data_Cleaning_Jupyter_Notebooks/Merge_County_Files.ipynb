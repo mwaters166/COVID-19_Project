{
 "cells": [
  {
   "cell_type": "markdown",
   "metadata": {},
   "source": [
    "# Merge County Files"
   ]
  },
  {
   "cell_type": "markdown",
   "metadata": {},
   "source": [
    "Join icu_capacity, county_area, county_health, global_mobility, kinsa_fever, and weekly_mortality_covid tables using SQL; combine into one dataframe: 'county_data_df'"
   ]
  },
  {
   "cell_type": "code",
   "execution_count": 17,
   "metadata": {},
   "outputs": [],
   "source": [
    "import pandas as pd\n",
    "import sqlite3"
   ]
  },
  {
   "cell_type": "code",
   "execution_count": 18,
   "metadata": {},
   "outputs": [],
   "source": [
    "conn=sqlite3.connect('COVID19_county_data.db')\n",
    "cursor= conn.cursor()"
   ]
  },
  {
   "cell_type": "code",
   "execution_count": 19,
   "metadata": {},
   "outputs": [],
   "source": [
    "#Create function to query SQL data\n",
    "def query_data(sql_statement):\n",
    "    df=pd.read_sql(sql_statement, conn)\n",
    "    #cursor.execute(sql_statement)\n",
    "    return df.to_dict('records')"
   ]
  },
  {
   "cell_type": "markdown",
   "metadata": {},
   "source": [
    "* Uncomment cells below to merge files sequentially. This may be a long process.\n",
    "* First, merge non-time-dependent datasets on FIPS column and save to database as 'county_health_icu_area_census'"
   ]
  },
  {
   "cell_type": "code",
   "execution_count": 20,
   "metadata": {},
   "outputs": [
    {
     "name": "stderr",
     "output_type": "stream",
     "text": [
      "/Users/michelewaters/anaconda3/lib/python3.7/site-packages/ipykernel_launcher.py:5: UserWarning: DataFrame columns are not unique, some columns will be omitted.\n",
      "  \"\"\"\n"
     ]
    }
   ],
   "source": [
    "non_time_df=pd.DataFrame(query_data('''SELECT icu_capacity.*, county_area.*, county_health.*, hard_to_count.* FROM icu_capacity \n",
    "                JOIN county_area ON county_area.FIPS= icu_capacity.FIPS\n",
    "                JOIN county_health ON county_health.FIPS= icu_capacity.FIPS\n",
    "                JOIN hard_to_count ON hard_to_count.FIPS= icu_capacity.FIPS\n",
    "               '''))"
   ]
  },
  {
   "cell_type": "code",
   "execution_count": 21,
   "metadata": {},
   "outputs": [
    {
     "data": {
      "text/html": [
       "<div>\n",
       "<style scoped>\n",
       "    .dataframe tbody tr th:only-of-type {\n",
       "        vertical-align: middle;\n",
       "    }\n",
       "\n",
       "    .dataframe tbody tr th {\n",
       "        vertical-align: top;\n",
       "    }\n",
       "\n",
       "    .dataframe thead th {\n",
       "        text-align: right;\n",
       "    }\n",
       "</style>\n",
       "<table border=\"1\" class=\"dataframe\">\n",
       "  <thead>\n",
       "    <tr style=\"text-align: right;\">\n",
       "      <th></th>\n",
       "      <th># Alcohol-Impaired Driving Deaths</th>\n",
       "      <th># Alcohol-Impaired Driving Deaths_isna</th>\n",
       "      <th># American Indian &amp; Alaska Native</th>\n",
       "      <th># Asian</th>\n",
       "      <th># Black</th>\n",
       "      <th># Chlamydia Cases</th>\n",
       "      <th># Chlamydia Cases_isna</th>\n",
       "      <th># Deaths_Premature age-adjusted mortality</th>\n",
       "      <th># Deaths_Premature age-adjusted mortality_isna</th>\n",
       "      <th># Deaths_Suicides</th>\n",
       "      <th>...</th>\n",
       "      <th>YPLL Rate (Asian)_isna</th>\n",
       "      <th>YPLL Rate (Black)</th>\n",
       "      <th>YPLL Rate (Black)_isna</th>\n",
       "      <th>YPLL Rate (Hispanic)</th>\n",
       "      <th>YPLL Rate (Hispanic)_isna</th>\n",
       "      <th>YPLL Rate (White)</th>\n",
       "      <th>YPLL Rate (White)_isna</th>\n",
       "      <th>Years of Potential Life Lost Rate</th>\n",
       "      <th>Years of Potential Life Lost Rate_isna</th>\n",
       "      <th>id</th>\n",
       "    </tr>\n",
       "  </thead>\n",
       "  <tbody>\n",
       "    <tr>\n",
       "      <th>0</th>\n",
       "      <td>15.0</td>\n",
       "      <td>0</td>\n",
       "      <td>267</td>\n",
       "      <td>681</td>\n",
       "      <td>10755</td>\n",
       "      <td>226.0</td>\n",
       "      <td>0</td>\n",
       "      <td>791.0</td>\n",
       "      <td>0</td>\n",
       "      <td>53.0</td>\n",
       "      <td>...</td>\n",
       "      <td>1</td>\n",
       "      <td>10201.0</td>\n",
       "      <td>0</td>\n",
       "      <td>0.0</td>\n",
       "      <td>1</td>\n",
       "      <td>7886.0</td>\n",
       "      <td>0</td>\n",
       "      <td>8129.0</td>\n",
       "      <td>0</td>\n",
       "      <td>0</td>\n",
       "    </tr>\n",
       "    <tr>\n",
       "      <th>1</th>\n",
       "      <td>48.0</td>\n",
       "      <td>0</td>\n",
       "      <td>1684</td>\n",
       "      <td>2508</td>\n",
       "      <td>19151</td>\n",
       "      <td>691.0</td>\n",
       "      <td>0</td>\n",
       "      <td>2967.0</td>\n",
       "      <td>0</td>\n",
       "      <td>207.0</td>\n",
       "      <td>...</td>\n",
       "      <td>1</td>\n",
       "      <td>9891.0</td>\n",
       "      <td>0</td>\n",
       "      <td>3570.0</td>\n",
       "      <td>0</td>\n",
       "      <td>7436.0</td>\n",
       "      <td>0</td>\n",
       "      <td>7354.0</td>\n",
       "      <td>0</td>\n",
       "      <td>1</td>\n",
       "    </tr>\n",
       "    <tr>\n",
       "      <th>2</th>\n",
       "      <td>12.0</td>\n",
       "      <td>0</td>\n",
       "      <td>164</td>\n",
       "      <td>113</td>\n",
       "      <td>11951</td>\n",
       "      <td>181.0</td>\n",
       "      <td>0</td>\n",
       "      <td>472.0</td>\n",
       "      <td>0</td>\n",
       "      <td>18.0</td>\n",
       "      <td>...</td>\n",
       "      <td>1</td>\n",
       "      <td>12422.0</td>\n",
       "      <td>0</td>\n",
       "      <td>0.0</td>\n",
       "      <td>1</td>\n",
       "      <td>8140.0</td>\n",
       "      <td>0</td>\n",
       "      <td>10254.0</td>\n",
       "      <td>0</td>\n",
       "      <td>2</td>\n",
       "    </tr>\n",
       "    <tr>\n",
       "      <th>3</th>\n",
       "      <td>8.0</td>\n",
       "      <td>0</td>\n",
       "      <td>98</td>\n",
       "      <td>53</td>\n",
       "      <td>4731</td>\n",
       "      <td>77.0</td>\n",
       "      <td>0</td>\n",
       "      <td>471.0</td>\n",
       "      <td>0</td>\n",
       "      <td>23.0</td>\n",
       "      <td>...</td>\n",
       "      <td>1</td>\n",
       "      <td>13085.0</td>\n",
       "      <td>0</td>\n",
       "      <td>0.0</td>\n",
       "      <td>1</td>\n",
       "      <td>12241.0</td>\n",
       "      <td>0</td>\n",
       "      <td>11978.0</td>\n",
       "      <td>0</td>\n",
       "      <td>3</td>\n",
       "    </tr>\n",
       "    <tr>\n",
       "      <th>4</th>\n",
       "      <td>14.0</td>\n",
       "      <td>0</td>\n",
       "      <td>378</td>\n",
       "      <td>185</td>\n",
       "      <td>846</td>\n",
       "      <td>136.0</td>\n",
       "      <td>0</td>\n",
       "      <td>1085.0</td>\n",
       "      <td>0</td>\n",
       "      <td>50.0</td>\n",
       "      <td>...</td>\n",
       "      <td>1</td>\n",
       "      <td>0.0</td>\n",
       "      <td>1</td>\n",
       "      <td>0.0</td>\n",
       "      <td>1</td>\n",
       "      <td>0.0</td>\n",
       "      <td>1</td>\n",
       "      <td>11335.0</td>\n",
       "      <td>0</td>\n",
       "      <td>4</td>\n",
       "    </tr>\n",
       "  </tbody>\n",
       "</table>\n",
       "<p>5 rows × 443 columns</p>\n",
       "</div>"
      ],
      "text/plain": [
       "   # Alcohol-Impaired Driving Deaths  # Alcohol-Impaired Driving Deaths_isna  \\\n",
       "0                               15.0                                       0   \n",
       "1                               48.0                                       0   \n",
       "2                               12.0                                       0   \n",
       "3                                8.0                                       0   \n",
       "4                               14.0                                       0   \n",
       "\n",
       "   # American Indian & Alaska Native  # Asian  # Black  # Chlamydia Cases  \\\n",
       "0                                267      681    10755              226.0   \n",
       "1                               1684     2508    19151              691.0   \n",
       "2                                164      113    11951              181.0   \n",
       "3                                 98       53     4731               77.0   \n",
       "4                                378      185      846              136.0   \n",
       "\n",
       "   # Chlamydia Cases_isna  # Deaths_Premature age-adjusted mortality  \\\n",
       "0                       0                                      791.0   \n",
       "1                       0                                     2967.0   \n",
       "2                       0                                      472.0   \n",
       "3                       0                                      471.0   \n",
       "4                       0                                     1085.0   \n",
       "\n",
       "   # Deaths_Premature age-adjusted mortality_isna  # Deaths_Suicides ...  \\\n",
       "0                                               0               53.0 ...   \n",
       "1                                               0              207.0 ...   \n",
       "2                                               0               18.0 ...   \n",
       "3                                               0               23.0 ...   \n",
       "4                                               0               50.0 ...   \n",
       "\n",
       "   YPLL Rate (Asian)_isna  YPLL Rate (Black)  YPLL Rate (Black)_isna  \\\n",
       "0                       1            10201.0                       0   \n",
       "1                       1             9891.0                       0   \n",
       "2                       1            12422.0                       0   \n",
       "3                       1            13085.0                       0   \n",
       "4                       1                0.0                       1   \n",
       "\n",
       "   YPLL Rate (Hispanic)  YPLL Rate (Hispanic)_isna  YPLL Rate (White)  \\\n",
       "0                   0.0                          1             7886.0   \n",
       "1                3570.0                          0             7436.0   \n",
       "2                   0.0                          1             8140.0   \n",
       "3                   0.0                          1            12241.0   \n",
       "4                   0.0                          1                0.0   \n",
       "\n",
       "   YPLL Rate (White)_isna  Years of Potential Life Lost Rate  \\\n",
       "0                       0                             8129.0   \n",
       "1                       0                             7354.0   \n",
       "2                       0                            10254.0   \n",
       "3                       0                            11978.0   \n",
       "4                       1                            11335.0   \n",
       "\n",
       "   Years of Potential Life Lost Rate_isna  id  \n",
       "0                                       0   0  \n",
       "1                                       0   1  \n",
       "2                                       0   2  \n",
       "3                                       0   3  \n",
       "4                                       0   4  \n",
       "\n",
       "[5 rows x 443 columns]"
      ]
     },
     "execution_count": 21,
     "metadata": {},
     "output_type": "execute_result"
    }
   ],
   "source": [
    "non_time_df.head()"
   ]
  },
  {
   "cell_type": "code",
   "execution_count": 6,
   "metadata": {},
   "outputs": [],
   "source": [
    "# non_time_df.drop(columns='id').to_sql('county_health_icu_area_census', conn, index_label='id', if_exists='replace')"
   ]
  },
  {
   "cell_type": "markdown",
   "metadata": {},
   "source": [
    "* Merge global mobility report with non-time dependent features on FIPS"
   ]
  },
  {
   "cell_type": "code",
   "execution_count": 7,
   "metadata": {},
   "outputs": [],
   "source": [
    "# all_mobility_df=pd.DataFrame(query_data('''SELECT global_mobility.*, county_health_icu_area_census.* FROM global_mobility\n",
    "#                 JOIN county_health_icu_area_census ON county_health_icu_area_census.FIPS=global_mobility.FIPS\n",
    "#                '''))"
   ]
  },
  {
   "cell_type": "code",
   "execution_count": 8,
   "metadata": {},
   "outputs": [],
   "source": [
    "# all_mobility_df.drop(columns='id').to_sql('county_health_icu_area_census_mobility', conn, index_label='id', if_exists='replace')"
   ]
  },
  {
   "cell_type": "markdown",
   "metadata": {},
   "source": [
    "* Merge kinsa data with global mobility and non-time features on FIPS and date"
   ]
  },
  {
   "cell_type": "code",
   "execution_count": 9,
   "metadata": {},
   "outputs": [],
   "source": [
    "# all_mobility_kinsa_df=pd.DataFrame(query_data('''SELECT county_health_icu_area_census_mobility.*, kinsa_fever.* FROM county_health_icu_area_census_mobility \n",
    "#                 JOIN kinsa_fever ON county_health_icu_area_census_mobility.FIPS=kinsa_fever.FIPS AND kinsa_fever.date=county_health_icu_area_census_mobility.date\n",
    "#                 '''))\n"
   ]
  },
  {
   "cell_type": "code",
   "execution_count": 10,
   "metadata": {},
   "outputs": [],
   "source": [
    "# all_mobility_kinsa_df=all_mobility_kinsa_df.rename(columns={'state':'state_abbrv'})"
   ]
  },
  {
   "cell_type": "code",
   "execution_count": 11,
   "metadata": {},
   "outputs": [],
   "source": [
    "# all_mobility_kinsa_df.drop(columns='id').to_sql('county_health_icu_area_census_mobility_kinsa', conn, index_label='id', if_exists='replace')"
   ]
  },
  {
   "cell_type": "markdown",
   "metadata": {},
   "source": [
    "* Merge weekly COVID-19 confirmed and mortality data with kinsa, global mobility, and non-time features on FIPS and date"
   ]
  },
  {
   "cell_type": "code",
   "execution_count": 12,
   "metadata": {},
   "outputs": [],
   "source": [
    "# all_mobility_kinsa_weekly_covid_mortality_df=pd.DataFrame(query_data('''SELECT county_health_icu_area_census_mobility_kinsa.*, weekly_confirmed_mortality_covid.* FROM county_health_icu_area_census_mobility_kinsa \n",
    "#                 JOIN weekly_confirmed_mortality_covid ON county_health_icu_area_census_mobility_kinsa.FIPS=weekly_confirmed_mortality_covid.FIPS AND weekly_confirmed_mortality_covid.Date=county_health_icu_area_census_mobility_kinsa.date\n",
    "#                 '''))"
   ]
  },
  {
   "cell_type": "code",
   "execution_count": 13,
   "metadata": {},
   "outputs": [],
   "source": [
    "# all_mobility_kinsa_weekly_covid_mortality_df.drop(columns=['id', 'date']).to_sql('county_health_icu_area_mobility_kinsa_weekly_confirmed_mortality_covid', conn, index_label='id', if_exists='replace')"
   ]
  },
  {
   "cell_type": "markdown",
   "metadata": {},
   "source": [
    "* View final result"
   ]
  },
  {
   "cell_type": "code",
   "execution_count": 14,
   "metadata": {},
   "outputs": [],
   "source": [
    "county_data_df=pd.DataFrame(query_data('''SELECT * FROM county_health_icu_area_mobility_kinsa_weekly_confirmed_mortality_covid\n",
    "                                        '''))"
   ]
  },
  {
   "cell_type": "code",
   "execution_count": 15,
   "metadata": {},
   "outputs": [
    {
     "data": {
      "text/html": [
       "<div>\n",
       "<style scoped>\n",
       "    .dataframe tbody tr th:only-of-type {\n",
       "        vertical-align: middle;\n",
       "    }\n",
       "\n",
       "    .dataframe tbody tr th {\n",
       "        vertical-align: top;\n",
       "    }\n",
       "\n",
       "    .dataframe thead th {\n",
       "        text-align: right;\n",
       "    }\n",
       "</style>\n",
       "<table border=\"1\" class=\"dataframe\">\n",
       "  <thead>\n",
       "    <tr style=\"text-align: right;\">\n",
       "      <th></th>\n",
       "      <th>FIPS</th>\n",
       "      <th>Date</th>\n",
       "      <th>day_of_week</th>\n",
       "      <th>doy</th>\n",
       "      <th># Food Insecure</th>\n",
       "      <th>Mortality_Count_Log</th>\n",
       "      <th>Land_Area_sq_mi_LND110200D</th>\n",
       "      <th>LowResponseScore</th>\n",
       "      <th>retail_and_recreation_percent_change_from_baseline</th>\n",
       "      <th>observed_ili</th>\n",
       "    </tr>\n",
       "  </thead>\n",
       "  <tbody>\n",
       "    <tr>\n",
       "      <th>0</th>\n",
       "      <td>1001</td>\n",
       "      <td>2020-02-21 00:00:00</td>\n",
       "      <td>Friday</td>\n",
       "      <td>52</td>\n",
       "      <td>7270</td>\n",
       "      <td>0.0</td>\n",
       "      <td>595.97</td>\n",
       "      <td>19.391667</td>\n",
       "      <td>-3.0</td>\n",
       "      <td>5.433901</td>\n",
       "    </tr>\n",
       "    <tr>\n",
       "      <th>1</th>\n",
       "      <td>1001</td>\n",
       "      <td>2020-02-28 00:00:00</td>\n",
       "      <td>Friday</td>\n",
       "      <td>59</td>\n",
       "      <td>7270</td>\n",
       "      <td>0.0</td>\n",
       "      <td>595.97</td>\n",
       "      <td>19.391667</td>\n",
       "      <td>12.0</td>\n",
       "      <td>3.424322</td>\n",
       "    </tr>\n",
       "    <tr>\n",
       "      <th>2</th>\n",
       "      <td>1001</td>\n",
       "      <td>2020-03-06 00:00:00</td>\n",
       "      <td>Friday</td>\n",
       "      <td>66</td>\n",
       "      <td>7270</td>\n",
       "      <td>0.0</td>\n",
       "      <td>595.97</td>\n",
       "      <td>19.391667</td>\n",
       "      <td>4.0</td>\n",
       "      <td>4.047624</td>\n",
       "    </tr>\n",
       "    <tr>\n",
       "      <th>3</th>\n",
       "      <td>1001</td>\n",
       "      <td>2020-03-13 00:00:00</td>\n",
       "      <td>Friday</td>\n",
       "      <td>73</td>\n",
       "      <td>7270</td>\n",
       "      <td>0.0</td>\n",
       "      <td>595.97</td>\n",
       "      <td>19.391667</td>\n",
       "      <td>8.0</td>\n",
       "      <td>4.448124</td>\n",
       "    </tr>\n",
       "    <tr>\n",
       "      <th>4</th>\n",
       "      <td>1001</td>\n",
       "      <td>2020-03-20 00:00:00</td>\n",
       "      <td>Friday</td>\n",
       "      <td>80</td>\n",
       "      <td>7270</td>\n",
       "      <td>0.0</td>\n",
       "      <td>595.97</td>\n",
       "      <td>19.391667</td>\n",
       "      <td>-24.0</td>\n",
       "      <td>4.555080</td>\n",
       "    </tr>\n",
       "  </tbody>\n",
       "</table>\n",
       "</div>"
      ],
      "text/plain": [
       "   FIPS                 Date day_of_week  doy  # Food Insecure  \\\n",
       "0  1001  2020-02-21 00:00:00      Friday   52             7270   \n",
       "1  1001  2020-02-28 00:00:00      Friday   59             7270   \n",
       "2  1001  2020-03-06 00:00:00      Friday   66             7270   \n",
       "3  1001  2020-03-13 00:00:00      Friday   73             7270   \n",
       "4  1001  2020-03-20 00:00:00      Friday   80             7270   \n",
       "\n",
       "   Mortality_Count_Log  Land_Area_sq_mi_LND110200D  LowResponseScore  \\\n",
       "0                  0.0                      595.97         19.391667   \n",
       "1                  0.0                      595.97         19.391667   \n",
       "2                  0.0                      595.97         19.391667   \n",
       "3                  0.0                      595.97         19.391667   \n",
       "4                  0.0                      595.97         19.391667   \n",
       "\n",
       "   retail_and_recreation_percent_change_from_baseline  observed_ili  \n",
       "0                                               -3.0       5.433901  \n",
       "1                                               12.0       3.424322  \n",
       "2                                                4.0       4.047624  \n",
       "3                                                8.0       4.448124  \n",
       "4                                              -24.0       4.555080  "
      ]
     },
     "execution_count": 15,
     "metadata": {},
     "output_type": "execute_result"
    }
   ],
   "source": [
    "#Choose parameters from each table to make sure data is present\n",
    "county_data_df[['FIPS','Date','day_of_week', 'doy','# Food Insecure', 'Mortality_Count_Log', 'Land_Area_sq_mi_LND110200D', 'LowResponseScore', 'retail_and_recreation_percent_change_from_baseline', 'observed_ili']].head()"
   ]
  },
  {
   "cell_type": "code",
   "execution_count": null,
   "metadata": {},
   "outputs": [],
   "source": []
  }
 ],
 "metadata": {
  "kernelspec": {
   "display_name": "Python 3",
   "language": "python",
   "name": "python3"
  },
  "language_info": {
   "codemirror_mode": {
    "name": "ipython",
    "version": 3
   },
   "file_extension": ".py",
   "mimetype": "text/x-python",
   "name": "python",
   "nbconvert_exporter": "python",
   "pygments_lexer": "ipython3",
   "version": "3.7.1"
  }
 },
 "nbformat": 4,
 "nbformat_minor": 2
}
